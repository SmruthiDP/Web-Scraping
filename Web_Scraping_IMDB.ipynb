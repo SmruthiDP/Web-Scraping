{
 "cells": [
  {
   "cell_type": "code",
   "execution_count": 40,
   "id": "5b058a98",
   "metadata": {},
   "outputs": [],
   "source": [
    "from bs4 import BeautifulSoup\n",
    "import requests\n",
    "import pandas as pd"
   ]
  },
  {
   "cell_type": "code",
   "execution_count": 51,
   "id": "76cb98d2",
   "metadata": {},
   "outputs": [
    {
     "name": "stdout",
     "output_type": "stream",
     "text": [
      "    Rank                      Name  Year Rating\n",
      "0      1  The Shawshank Redemption  1994    9.2\n",
      "1      2             The Godfather  1972    9.2\n",
      "2      3           The Dark Knight  2008    9.0\n",
      "3      4     The Godfather Part II  1974    9.0\n",
      "4      5              12 Angry Men  1957    8.9\n",
      "..   ...                       ...   ...    ...\n",
      "245  246               Dersu Uzala  1975    8.0\n",
      "246  247                   Aladdin  1992    8.0\n",
      "247  248                    Gandhi  1982    8.0\n",
      "248  249                  The Help  2011    8.0\n",
      "249  250            The Iron Giant  1999    8.0\n",
      "\n",
      "[250 rows x 4 columns]\n"
     ]
    }
   ],
   "source": [
    "name=[]\n",
    "rank=[]\n",
    "year=[]\n",
    "rating=[]\n",
    "try:\n",
    "    source=requests.get('https://www.imdb.com/chart/top/')\n",
    "    source.raise_for_status()\n",
    "    \n",
    "    soup=BeautifulSoup(source.text,'html.parser')\n",
    "    movies=soup.find('tbody',class_ =\"lister-list\").find_all('tr')\n",
    "    for movie in movies:\n",
    "        \n",
    "        name.append(movie.find('td',class_=\"titleColumn\").a.text)\n",
    "        \n",
    "        rank.append(movie.find('td',class_=\"titleColumn\").get_text(strip=True).split('.')[0])\n",
    "        \n",
    "        year.append(movie.find('td',class_=\"titleColumn\").span.text[1:5])\n",
    "        \n",
    "        rating.append(movie.find('td',class_=\"ratingColumn imdbRating\").strong.text)\n",
    "        \n",
    "    Rank=pd.Series(rank,name=\"Rank\")\n",
    "    Name=pd.Series(name,name=\"Name\")\n",
    "    Year=pd.Series(year,name=\"Year\")\n",
    "    Rating=pd.Series(rating,name=\"Rating\")\n",
    "\n",
    "    IMDB_df=pd.concat([Rank,Name,Year,Rating],axis=1)\n",
    "    \n",
    "    print(IMDB_df)\n",
    "    \n",
    "       \n",
    "    \n",
    "except Exception as e:\n",
    "    print(e)"
   ]
  },
  {
   "cell_type": "code",
   "execution_count": 49,
   "id": "e12c54b5",
   "metadata": {},
   "outputs": [],
   "source": [
    "IMDB_df.to_excel(\"IMDB Top 250 Movies list.xlsx\",sheet_name=\"Top 250\")"
   ]
  },
  {
   "cell_type": "code",
   "execution_count": null,
   "id": "3a42c584",
   "metadata": {},
   "outputs": [],
   "source": []
  }
 ],
 "metadata": {
  "kernelspec": {
   "display_name": "Python 3 (ipykernel)",
   "language": "python",
   "name": "python3"
  },
  "language_info": {
   "codemirror_mode": {
    "name": "ipython",
    "version": 3
   },
   "file_extension": ".py",
   "mimetype": "text/x-python",
   "name": "python",
   "nbconvert_exporter": "python",
   "pygments_lexer": "ipython3",
   "version": "3.9.12"
  }
 },
 "nbformat": 4,
 "nbformat_minor": 5
}
